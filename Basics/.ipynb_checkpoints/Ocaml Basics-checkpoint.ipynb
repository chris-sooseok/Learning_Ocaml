{
 "cells": [
  {
   "cell_type": "markdown",
   "id": "5d3ac0d3-6455-41b4-93ff-55d4086c4a3d",
   "metadata": {},
   "source": [
    "# <font color='red'> Functions and Type Inference </font>"
   ]
  },
  {
   "cell_type": "code",
   "execution_count": 6,
   "id": "3133b355-e084-4bb4-be06-e76c875d6ed2",
   "metadata": {},
   "outputs": [
    {
     "data": {
      "text/plain": [
       "val square : int -> int = <fun>\n"
      ]
     },
     "execution_count": 6,
     "metadata": {},
     "output_type": "execute_result"
    }
   ],
   "source": [
    "let square x = x * x;;"
   ]
  },
  {
   "cell_type": "code",
   "execution_count": 7,
   "id": "5461d020-54af-4fc2-8f3e-3c8907849fee",
   "metadata": {},
   "outputs": [
    {
     "data": {
      "text/plain": [
       "val ratio : int -> int -> float = <fun>\n"
      ]
     },
     "execution_count": 7,
     "metadata": {},
     "output_type": "execute_result"
    }
   ],
   "source": [
    "let ratio x y = Float.of_int x /. Float.of_int y;;"
   ]
  },
  {
   "cell_type": "markdown",
   "id": "7b387e8e-481c-4fd0-bd81-2fa0a9b583a2",
   "metadata": {},
   "source": [
    "### int -> int -> float describes a function that takes two int arguments and returns a float.\n",
    "\n"
   ]
  },
  {
   "cell_type": "code",
   "execution_count": 8,
   "id": "282496c1-edec-438e-bf40-3375e34cc673",
   "metadata": {},
   "outputs": [
    {
     "data": {
      "text/plain": [
       "val sum_if_true : (int -> bool) -> int -> int -> int = <fun>\n"
      ]
     },
     "execution_count": 8,
     "metadata": {},
     "output_type": "execute_result"
    }
   ],
   "source": [
    "let sum_if_true test first second =\n",
    "  (if test first then first else 0)\n",
    "  + (if test second then second else 0);;"
   ]
  },
  {
   "cell_type": "code",
   "execution_count": 1,
   "id": "34f618ba-4485-420d-804d-94a035ad7be1",
   "metadata": {},
   "outputs": [
    {
     "data": {
      "text/plain": [
       "val sum_if_true : (int -> bool) -> int -> int -> int = <fun>\n"
      ]
     },
     "execution_count": 1,
     "metadata": {},
     "output_type": "execute_result"
    }
   ],
   "source": [
    "let sum_if_true (test : int -> bool) (x : int) (y : int) : int =\n",
    "  (if test x then x else 0)\n",
    "  + (if test y then y else 0);;"
   ]
  },
  {
   "cell_type": "markdown",
   "id": "e81d2f9e-7e2d-44fe-bce8-7dbc9efa2a12",
   "metadata": {},
   "source": [
    "### Here’s an annotated version of sum_if_true\n"
   ]
  },
  {
   "cell_type": "markdown",
   "id": "5d3b3999-6bd3-42f9-b719-6c0f509bb94a",
   "metadata": {},
   "source": [
    "# <font color='red'> Inferring Generic Types </font>"
   ]
  },
  {
   "cell_type": "code",
   "execution_count": 2,
   "id": "d9bd3010-8e5b-4d73-819b-855e09c642ec",
   "metadata": {},
   "outputs": [
    {
     "data": {
      "text/plain": [
       "val first_if_true : ('a -> bool) -> 'a -> 'a -> 'a = <fun>\n"
      ]
     },
     "execution_count": 2,
     "metadata": {},
     "output_type": "execute_result"
    }
   ],
   "source": [
    "let first_if_true test x y = if test x then x else y;;"
   ]
  },
  {
   "cell_type": "markdown",
   "id": "5cdf994b-33d6-4214-92a7-6725be0bbd09",
   "metadata": {},
   "source": [
    "### Whatever type 'a is, it has to be the same as the type of the other two arguments, x and y, and of the return value of first_if_true"
   ]
  },
  {
   "cell_type": "code",
   "execution_count": 3,
   "id": "58de8cf4-3edf-4f3d-acd3-66a0df9f1666",
   "metadata": {},
   "outputs": [
    {
     "data": {
      "text/plain": [
       "val big_number : int -> bool = <fun>\n"
      ]
     },
     "execution_count": 3,
     "metadata": {},
     "output_type": "execute_result"
    },
    {
     "data": {
      "text/plain": [
       "- : int = 4\n"
      ]
     },
     "execution_count": 3,
     "metadata": {},
     "output_type": "execute_result"
    },
    {
     "data": {
      "text/plain": [
       "val long_string : string -> bool = <fun>\n"
      ]
     },
     "execution_count": 3,
     "metadata": {},
     "output_type": "execute_result"
    },
    {
     "data": {
      "text/plain": [
       "- : string = \"loooooong\"\n"
      ]
     },
     "execution_count": 3,
     "metadata": {},
     "output_type": "execute_result"
    }
   ],
   "source": [
    "let big_number x = x > 3;;\n",
    "first_if_true big_number 4 3;;\n",
    "\n",
    "let long_string s = String.length s > 6;;\n",
    "first_if_true long_string \"short\" \"loooooong\";;"
   ]
  },
  {
   "cell_type": "markdown",
   "id": "4288fb4d-0695-4e65-ae7c-e2cd4f2dd77e",
   "metadata": {},
   "source": [
    "# <font color='red'> Type Errors versus Exceptions </font>"
   ]
  },
  {
   "cell_type": "code",
   "execution_count": 4,
   "id": "e5c12fa2-5a23-40d5-9d7f-e4900cb8be68",
   "metadata": {},
   "outputs": [
    {
     "ename": "error",
     "evalue": "compile_error",
     "output_type": "error",
     "traceback": [
      "File \"[4]\", line 1, characters 23-31:\n1 | let add_potato x = x + \"potato\";;\n                           ^^^^^^^^\nError: This expression has type string but an expression was expected of type\n         int\n"
     ]
    }
   ],
   "source": [
    "let add_potato x = x + \"potato\";;"
   ]
  },
  {
   "cell_type": "markdown",
   "id": "232e7359-28f6-4b1c-bda2-4d522cf50c9b",
   "metadata": {},
   "source": [
    "### are compile-time errors (because + requires that both its arguments be of type int), whereas errors that can’t be caught by the type system, like division by zero, lead to runtime exceptions:"
   ]
  },
  {
   "cell_type": "code",
   "execution_count": 7,
   "id": "9fbd64fc-2655-4fa0-8bd4-784ffd2d59b4",
   "metadata": {},
   "outputs": [
    {
     "data": {
      "text/plain": [
       "val is_a_divide : int -> int -> bool = <fun>\n"
      ]
     },
     "execution_count": 7,
     "metadata": {},
     "output_type": "execute_result"
    }
   ],
   "source": [
    "let is_a_divide x y = x / y = 0;;"
   ]
  },
  {
   "cell_type": "code",
   "execution_count": 8,
   "id": "5a17473c-46f8-4983-a611-73279ff5797a",
   "metadata": {},
   "outputs": [
    {
     "ename": "error",
     "evalue": "runtime_error",
     "output_type": "error",
     "traceback": [
      "\u001b[31mException: Division_by_zero.\nRaised by primitive operation at unknown location\nCalled from Stdlib__Fun.protect in file \"fun.ml\", line 33, characters 8-15\nRe-raised at Stdlib__Fun.protect in file \"fun.ml\", line 38, characters 6-52\nCalled from Topeval.load_lambda in file \"toplevel/byte/topeval.ml\", line 89, characters 4-150\n\u001b[0m"
     ]
    }
   ],
   "source": [
    "is_a_multiple 8 0;;"
   ]
  },
  {
   "cell_type": "markdown",
   "id": "6cc70e91-0ddf-4fa2-ae9b-1d3d53d47d8c",
   "metadata": {
    "jp-MarkdownHeadingCollapsed": true
   },
   "source": [
    "# <font color='red'> Tuples, Lists, Options, and Pattern Matching </font>"
   ]
  },
  {
   "cell_type": "code",
   "execution_count": 9,
   "id": "00ae2eed-1a2f-4c26-9103-6393022e0e30",
   "metadata": {},
   "outputs": [
    {
     "data": {
      "text/plain": [
       "val a_tuple : int * string = (3, \"three\")\n"
      ]
     },
     "execution_count": 9,
     "metadata": {},
     "output_type": "execute_result"
    },
    {
     "data": {
      "text/plain": [
       "val another_tuple : int * string * float = (3, \"four\", 5.)\n"
      ]
     },
     "execution_count": 9,
     "metadata": {},
     "output_type": "execute_result"
    }
   ],
   "source": [
    "let a_tuple = (3,\"three\");;\n",
    "let another_tuple = (3,\"four\",5.);;"
   ]
  },
  {
   "cell_type": "markdown",
   "id": "f2789c4e-f3df-4997-9a12-4a0cd96dec84",
   "metadata": {},
   "source": [
    "### A tuple is an ordered collection of values that can each be of a different type. You can create a tuple by joining values together with a comma. "
   ]
  },
  {
   "cell_type": "code",
   "execution_count": 11,
   "id": "6c09975f-126a-4eb3-896a-2d845cdf8b5c",
   "metadata": {},
   "outputs": [
    {
     "data": {
      "text/plain": [
       "val x : int = 3\n",
       "val y : string = \"three\"\n"
      ]
     },
     "execution_count": 11,
     "metadata": {},
     "output_type": "execute_result"
    }
   ],
   "source": [
    "let (x,y) = a_tuple;;"
   ]
  },
  {
   "cell_type": "markdown",
   "id": "259f95cf-da7b-4193-bffa-387f48e7bdcd",
   "metadata": {},
   "source": [
    "### You can extract the components of a tuple using OCaml’s pattern-matching syntax, as shown above. Here, the (x,y) on the left-hand side of the let binding is the pattern. This pattern lets us mint the new variables x and y, each bound to different components of the value being matched. These can now be used in subsequent expressions"
   ]
  },
  {
   "cell_type": "code",
   "execution_count": 12,
   "id": "af0a0769-2cc6-426c-9fc7-35b558194f47",
   "metadata": {},
   "outputs": [
    {
     "data": {
      "text/plain": [
       "- : unit = ()\n"
      ]
     },
     "execution_count": 12,
     "metadata": {},
     "output_type": "execute_result"
    },
    {
     "data": {
      "text/plain": [
       "val distance : float * float -> float * float -> float = <fun>\n"
      ]
     },
     "execution_count": 12,
     "metadata": {},
     "output_type": "execute_result"
    }
   ],
   "source": [
    "print_int (x + String.length y);;\n",
    "\n",
    "let distance (x1,y1) (x2,y2) =\n",
    "  Float.sqrt ((x1 -. x2) ** 2. +. (y1 -. y2) ** 2.);;"
   ]
  },
  {
   "cell_type": "markdown",
   "id": "fc36be6f-fd35-46d2-b79d-f10116415d48",
   "metadata": {},
   "source": [
    "### The ** operator used above is for raising a floating-point number to a power. This is just a first taste of pattern matching. Pattern matching is a pervasive tool in OCaml, and as you’ll see, it has surprising power\n",
    "### Where tuples let you combine a fixed number of items, potentially of different types, lists let you hold any number of items of the same type."
   ]
  },
  {
   "cell_type": "code",
   "execution_count": 17,
   "id": "3c818e00-fa92-4e64-b731-5b3954b1e9c7",
   "metadata": {},
   "outputs": [
    {
     "data": {
      "text/plain": [
       "val languages : string list = [\"OCaml\"; \"Perl\"; \"C\"]\n"
      ]
     },
     "execution_count": 17,
     "metadata": {},
     "output_type": "execute_result"
    },
    {
     "data": {
      "text/plain": [
       "- : int = 3\n"
      ]
     },
     "execution_count": 17,
     "metadata": {},
     "output_type": "execute_result"
    },
    {
     "data": {
      "text/plain": [
       "val lengths_of_strings : string list -> int list = <fun>\n"
      ]
     },
     "execution_count": 17,
     "metadata": {},
     "output_type": "execute_result"
    }
   ],
   "source": [
    "let languages = [\"OCaml\";\"Perl\";\"C\"];;\n",
    "List.length languages;;\n",
    "let lengths_of_strings (languages: string list) : int list =\n",
    "  List.map String.length languages;;"
   ]
  },
  {
   "cell_type": "markdown",
   "id": "063c0756-93a8-41a2-8480-505f2bb5905d",
   "metadata": {},
   "source": [
    "### - : int list = [5; 4; 1] List.map takes two arguments: a list and a function for transforming the elements  of that list. It returns a new list with the transformed elements and does not modify the original list"
   ]
  },
  {
   "cell_type": "markdown",
   "id": "4e8743da-cd81-4c95-92da-6b788c9f7386",
   "metadata": {},
   "source": [
    "# <font color=\"red\"> Constructing Lists with </font>"
   ]
  },
  {
   "cell_type": "code",
   "execution_count": null,
   "id": "c54e3ec4-330d-4bac-903f-8de47c6c344f",
   "metadata": {},
   "outputs": [],
   "source": [
    "\"French\" :: \"Spanish\" :: languages;;"
   ]
  },
  {
   "cell_type": "code",
   "execution_count": null,
   "id": "ec7f0758-42ee-4ff3-b34a-d621146c7cab",
   "metadata": {},
   "outputs": [],
   "source": [
    "\n",
    "\"French\" :: \"Spanish\" :: languages;;\n",
    "(* - : string list = [\"French\"; \"Spanish\"; \"OCaml\"; \"Perl\"; \"C\"] \n",
    "Here, we’re creating a new and extended list, not changing the list we started with *)\n",
    "\n",
    "(** SEMICOLONS VERSUS COMMAS *)\n",
    "\n",
    "(* Unlike many other languages, OCaml uses semicolons to separate list elements in lists\n",
    "rather than commas. Commas, instead, are used for separating elements in a tuple.\n",
    "If you try to use commas in a list, you’ll see that your code compiles but doesn’t\n",
    "do quite what you might expect: *)\n",
    "[\"OCaml\", \"Perl\", \"C\"];;\n",
    "(* - : (string * string * string) list = [(\"OCaml\", \"Perl\", \"C\")]\n",
    "\n",
    "* it’s the Cartesian product of the two types, which is why we use *, \n",
    "the symbol for product. *)\n",
    "\n",
    "[1; 2; 3];\n",
    "1 :: (2 :: (3 :: []));;\n",
    "1 :: 2 :: 3 :: [];;\n",
    "\n",
    "(* - : int list = [1; 2; 3] \n",
    "The bracket notation for lists is really just syntactic sugar for ::. Thus, \n",
    "the following declarations above are all equivalent. Note that [] is used to represent the\n",
    "empty list and that :: is right-associative *)\n",
    "[1;2;3] @ [4;5;6];;\n",
    "\n",
    "(* - : int list = [1; 2; 3; 4; 5; 6] \n",
    "There’s also a list concatenation operator, @, which can concatenate two lists:\n",
    "It’s important to remember that, unlike ::, this is not a constant-time operation. \n",
    "Concatenating two lists takes time proportional to the length of the first list.*)\n",
    "\n",
    "(** List Patterns Using Match *)\n",
    "\n",
    "let my_favorite_language (my_favorite :: the_rest) =\n",
    "  my_favorite;;\n",
    "\n",
    "\n",
    "\n",
    "\n",
    "  let rec sum l =\n",
    "    match l with\n",
    "    | [] -> 0                   (* base case *)\n",
    "    | hd :: tl -> hd + sum tl   (* inductive case *);;\n",
    "(* val sum : int list -> int = <fun>\n",
    "  sum [1;2;3];;\n",
    "  - : int = 6 *)\n",
    "\n",
    "(*\n",
    "- recursive functions are important parts when working with functional programming language\n",
    "- The logic of recursive is typically to separate base cases and inductive cases\n",
    "- base cases can be solved directly\n",
    "- inductive cases, where teh function breaks the problem down into smaller piececs and then calls itself to solve those smaller problems\n",
    "- often done with pattern matching\n",
    "  *)\n",
    "\n",
    "\n",
    "  let rec remove_sequential_duplicates list =\n",
    "    match list with\n",
    "    | [] -> []\n",
    "    | [x] -> [x]\n",
    "    | first :: second :: tl ->\n",
    "      if first = second then\n",
    "        remove_sequential_duplicates (second :: tl)\n",
    "      else\n",
    "        first :: remove_sequential_duplicates (second :: tl);;\n",
    "\n",
    "\n"
   ]
  }
 ],
 "metadata": {
  "kernelspec": {
   "display_name": "OCaml default",
   "language": "OCaml",
   "name": "ocaml-jupyter-default"
  },
  "language_info": {
   "codemirror_mode": "text/x-ocaml",
   "file_extension": ".ml",
   "mimetype": "text/x-ocaml",
   "name": "OCaml",
   "nbconverter_exporter": null,
   "pygments_lexer": "OCaml",
   "version": "4.14.2"
  }
 },
 "nbformat": 4,
 "nbformat_minor": 5
}
