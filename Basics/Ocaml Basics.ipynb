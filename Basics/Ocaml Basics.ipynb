{
 "cells": [
  {
   "cell_type": "markdown",
   "id": "5d3ac0d3-6455-41b4-93ff-55d4086c4a3d",
   "metadata": {},
   "source": [
    "# <font color='red'> Functions and Type Inference </font>"
   ]
  },
  {
   "cell_type": "code",
   "execution_count": 1,
   "id": "3133b355-e084-4bb4-be06-e76c875d6ed2",
   "metadata": {},
   "outputs": [
    {
     "data": {
      "text/plain": [
       "val square : int -> int = <fun>\n"
      ]
     },
     "execution_count": 1,
     "metadata": {},
     "output_type": "execute_result"
    }
   ],
   "source": [
    "let square x = x * x;;"
   ]
  },
  {
   "cell_type": "code",
   "execution_count": 2,
   "id": "5461d020-54af-4fc2-8f3e-3c8907849fee",
   "metadata": {},
   "outputs": [
    {
     "data": {
      "text/plain": [
       "val ratio : int -> int -> float = <fun>\n"
      ]
     },
     "execution_count": 2,
     "metadata": {},
     "output_type": "execute_result"
    }
   ],
   "source": [
    "let ratio x y = Float.of_int x /. Float.of_int y;;"
   ]
  },
  {
   "cell_type": "markdown",
   "id": "7b387e8e-481c-4fd0-bd81-2fa0a9b583a2",
   "metadata": {},
   "source": [
    "<p style=\"color:blue;font-size:18px;\"> int -> int -> float describes a function that takes two int arguments and returns a float.</p>\n",
    "\n"
   ]
  },
  {
   "cell_type": "code",
   "execution_count": 3,
   "id": "282496c1-edec-438e-bf40-3375e34cc673",
   "metadata": {},
   "outputs": [
    {
     "data": {
      "text/plain": [
       "val sum_if_true : (int -> bool) -> int -> int -> int = <fun>\n"
      ]
     },
     "execution_count": 3,
     "metadata": {},
     "output_type": "execute_result"
    }
   ],
   "source": [
    "let sum_if_true test first second =\n",
    "  (if test first then first else 0)\n",
    "  + (if test second then second else 0);;"
   ]
  },
  {
   "cell_type": "code",
   "execution_count": 4,
   "id": "34f618ba-4485-420d-804d-94a035ad7be1",
   "metadata": {},
   "outputs": [
    {
     "data": {
      "text/plain": [
       "val sum_if_true : (int -> bool) -> int -> int -> int = <fun>\n"
      ]
     },
     "execution_count": 4,
     "metadata": {},
     "output_type": "execute_result"
    }
   ],
   "source": [
    "let sum_if_true (test : int -> bool) (x : int) (y : int) : int =\n",
    "  (if test x then x else 0)\n",
    "  + (if test y then y else 0);;"
   ]
  },
  {
   "cell_type": "markdown",
   "id": "e81d2f9e-7e2d-44fe-bce8-7dbc9efa2a12",
   "metadata": {},
   "source": [
    "<p style=\"color:blue;font-size:18px;\"> Here’s an annotated version of sum_if_true </p>\n"
   ]
  },
  {
   "cell_type": "markdown",
   "id": "b21d1a27-0315-4dfe-9386-6afc71e5f5e9",
   "metadata": {},
   "source": [
    "&nbsp;"
   ]
  },
  {
   "cell_type": "markdown",
   "id": "5d3b3999-6bd3-42f9-b719-6c0f509bb94a",
   "metadata": {},
   "source": [
    "# <font color='red'> Inferring Generic Types </font>"
   ]
  },
  {
   "cell_type": "markdown",
   "id": "5cdf994b-33d6-4214-92a7-6725be0bbd09",
   "metadata": {},
   "source": [
    "<p style=\"color:blue;font-size:18px;\"> Whatever type 'a is, it has to be the same as the type of the other two arguments, x and y, and of the return value of first_if_true </p>"
   ]
  },
  {
   "cell_type": "code",
   "execution_count": 5,
   "id": "58de8cf4-3edf-4f3d-acd3-66a0df9f1666",
   "metadata": {},
   "outputs": [
    {
     "data": {
      "text/plain": [
       "val big_number : int -> bool = <fun>\n"
      ]
     },
     "execution_count": 5,
     "metadata": {},
     "output_type": "execute_result"
    },
    {
     "ename": "error",
     "evalue": "compile_error",
     "output_type": "error",
     "traceback": [
      "File \"[5]\", line 2, characters 0-13:\n2 | first_if_true big_number 4 3;;\n    ^^^^^^^^^^^^^\nError: Unbound value first_if_true\n"
     ]
    }
   ],
   "source": [
    "let big_number x = x > 3;;\n",
    "first_if_true big_number 4 3;;\n",
    "\n",
    "let long_string s = String.length s > 6;;\n",
    "first_if_true long_string \"short\" \"loooooong\";;"
   ]
  },
  {
   "cell_type": "markdown",
   "id": "d1e52dc9-679a-46a5-9115-b62b1119f6c6",
   "metadata": {},
   "source": [
    "&nbsp;"
   ]
  },
  {
   "cell_type": "markdown",
   "id": "4288fb4d-0695-4e65-ae7c-e2cd4f2dd77e",
   "metadata": {},
   "source": [
    "# <font color='red'> Type Errors versus Exceptions </font>"
   ]
  },
  {
   "cell_type": "code",
   "execution_count": 6,
   "id": "e5c12fa2-5a23-40d5-9d7f-e4900cb8be68",
   "metadata": {},
   "outputs": [
    {
     "ename": "error",
     "evalue": "compile_error",
     "output_type": "error",
     "traceback": [
      "File \"[6]\", line 1, characters 23-31:\n1 | let add_potato x = x + \"potato\";;\n                           ^^^^^^^^\nError: This expression has type string but an expression was expected of type\n         int\n"
     ]
    }
   ],
   "source": [
    "let add_potato x = x + \"potato\";;"
   ]
  },
  {
   "cell_type": "markdown",
   "id": "232e7359-28f6-4b1c-bda2-4d522cf50c9b",
   "metadata": {},
   "source": [
    "<p style=\"color:blue;font-size:18px;\"> are compile-time errors (because + requires that both its arguments be of type int), whereas errors that can’t be caught by the type system, like division by zero, lead to runtime exceptions: </p>"
   ]
  },
  {
   "cell_type": "code",
   "execution_count": 7,
   "id": "9fbd64fc-2655-4fa0-8bd4-784ffd2d59b4",
   "metadata": {},
   "outputs": [
    {
     "data": {
      "text/plain": [
       "val is_a_divide : int -> int -> bool = <fun>\n"
      ]
     },
     "execution_count": 7,
     "metadata": {},
     "output_type": "execute_result"
    }
   ],
   "source": [
    "let is_a_divide x y = x / y = 0;;"
   ]
  },
  {
   "cell_type": "code",
   "execution_count": 8,
   "id": "5a17473c-46f8-4983-a611-73279ff5797a",
   "metadata": {},
   "outputs": [
    {
     "ename": "error",
     "evalue": "compile_error",
     "output_type": "error",
     "traceback": [
      "File \"[8]\", line 1, characters 0-13:\n1 | is_a_multiple 8 0;;\n    ^^^^^^^^^^^^^\nError: Unbound value is_a_multiple\n"
     ]
    }
   ],
   "source": [
    "is_a_multiple 8 0;;"
   ]
  },
  {
   "cell_type": "markdown",
   "id": "f9619b70-6fc2-45cb-80f3-59a3ba93f292",
   "metadata": {},
   "source": [
    "&nbsp;"
   ]
  },
  {
   "cell_type": "markdown",
   "id": "6cc70e91-0ddf-4fa2-ae9b-1d3d53d47d8c",
   "metadata": {},
   "source": [
    "# <font color='red'> Tuples, Lists, Options, and Pattern Matching </font>"
   ]
  },
  {
   "cell_type": "code",
   "execution_count": 9,
   "id": "00ae2eed-1a2f-4c26-9103-6393022e0e30",
   "metadata": {},
   "outputs": [
    {
     "data": {
      "text/plain": [
       "val a_tuple : int * string = (3, \"three\")\n"
      ]
     },
     "execution_count": 9,
     "metadata": {},
     "output_type": "execute_result"
    },
    {
     "data": {
      "text/plain": [
       "val another_tuple : int * string * float = (3, \"four\", 5.)\n"
      ]
     },
     "execution_count": 9,
     "metadata": {},
     "output_type": "execute_result"
    }
   ],
   "source": [
    "let a_tuple = (3,\"three\");;\n",
    "let another_tuple = (3,\"four\",5.);;"
   ]
  },
  {
   "cell_type": "markdown",
   "id": "f2789c4e-f3df-4997-9a12-4a0cd96dec84",
   "metadata": {},
   "source": [
    "<p style=\"color:blue;font-size:18px;\"> A tuple is an ordered collection of values that can each be of a different type. You can create a tuple by joining values together with a comma. </p> "
   ]
  },
  {
   "cell_type": "code",
   "execution_count": 10,
   "id": "6c09975f-126a-4eb3-896a-2d845cdf8b5c",
   "metadata": {},
   "outputs": [
    {
     "data": {
      "text/plain": [
       "val x : int = 3\n",
       "val y : string = \"three\"\n"
      ]
     },
     "execution_count": 10,
     "metadata": {},
     "output_type": "execute_result"
    }
   ],
   "source": [
    "let (x,y) = a_tuple;;"
   ]
  },
  {
   "cell_type": "markdown",
   "id": "259f95cf-da7b-4193-bffa-387f48e7bdcd",
   "metadata": {},
   "source": [
    "<p style=\"color:blue;font-size:18px;\"> You can extract the components of a tuple using OCaml’s pattern-matching syntax, as shown above. Here, the (x,y) on the left-hand side of the let binding is the pattern. This pattern lets us mint the new variables x and y, each bound to different components of the value being matched. These can now be used in subsequent expressions </p>"
   ]
  },
  {
   "cell_type": "code",
   "execution_count": 11,
   "id": "af0a0769-2cc6-426c-9fc7-35b558194f47",
   "metadata": {},
   "outputs": [
    {
     "data": {
      "text/plain": [
       "- : unit = ()\n"
      ]
     },
     "execution_count": 11,
     "metadata": {},
     "output_type": "execute_result"
    },
    {
     "data": {
      "text/plain": [
       "val distance : float * float -> float * float -> float = <fun>\n"
      ]
     },
     "execution_count": 11,
     "metadata": {},
     "output_type": "execute_result"
    }
   ],
   "source": [
    "print_int (x + String.length y);;\n",
    "\n",
    "let distance (x1,y1) (x2,y2) =\n",
    "  Float.sqrt ((x1 -. x2) ** 2. +. (y1 -. y2) ** 2.);;"
   ]
  },
  {
   "cell_type": "markdown",
   "id": "fc36be6f-fd35-46d2-b79d-f10116415d48",
   "metadata": {},
   "source": [
    "<p style=\"color:blue;font-size:18px;\"> The ** operator used above is for raising a floating-point number to a power. This is just a first taste of pattern matching. Pattern matching is a pervasive tool in OCaml, and as you’ll see, it has surprising power <br>\n",
    "Where tuples let you combine a fixed number of items, potentially of different types, lists let you hold any number of items of the same type. </p>"
   ]
  },
  {
   "cell_type": "code",
   "execution_count": 12,
   "id": "3c818e00-fa92-4e64-b731-5b3954b1e9c7",
   "metadata": {},
   "outputs": [
    {
     "data": {
      "text/plain": [
       "val languages : string list = [\"OCaml\"; \"Perl\"; \"C\"]\n"
      ]
     },
     "execution_count": 12,
     "metadata": {},
     "output_type": "execute_result"
    },
    {
     "data": {
      "text/plain": [
       "- : int = 3\n"
      ]
     },
     "execution_count": 12,
     "metadata": {},
     "output_type": "execute_result"
    },
    {
     "data": {
      "text/plain": [
       "val lengths_of_strings : string list -> int list = <fun>\n"
      ]
     },
     "execution_count": 12,
     "metadata": {},
     "output_type": "execute_result"
    }
   ],
   "source": [
    "let languages = [\"OCaml\";\"Perl\";\"C\"];;\n",
    "List.length languages;;\n",
    "let lengths_of_strings (languages: string list) : int list =\n",
    "  List.map String.length languages;;"
   ]
  },
  {
   "cell_type": "markdown",
   "id": "063c0756-93a8-41a2-8480-505f2bb5905d",
   "metadata": {},
   "source": [
    "<p style=\"color:blue;font-size:18px;\"> - : int list = [5; 4; 1] List.map takes two arguments: a list and a function for transforming the elements  of that list. It returns a new list with the transformed elements and does not modify the original list </p>"
   ]
  },
  {
   "cell_type": "markdown",
   "id": "4e8743da-cd81-4c95-92da-6b788c9f7386",
   "metadata": {},
   "source": [
    "### <font color=\"red\"> Constructing Lists with </font>"
   ]
  },
  {
   "cell_type": "code",
   "execution_count": 13,
   "id": "c54e3ec4-330d-4bac-903f-8de47c6c344f",
   "metadata": {},
   "outputs": [
    {
     "data": {
      "text/plain": [
       "- : string list = [\"French\"; \"Spanish\"; \"OCaml\"; \"Perl\"; \"C\"]\n"
      ]
     },
     "execution_count": 13,
     "metadata": {},
     "output_type": "execute_result"
    }
   ],
   "source": [
    "\"French\" :: \"Spanish\" :: languages;;"
   ]
  },
  {
   "cell_type": "markdown",
   "id": "946f6859-05fb-425f-8a1d-6c969ccd3487",
   "metadata": {},
   "source": [
    "<p style=\"color:blue;font-size:18px;\"> - : string list = [\"French\"; \"Spanish\"; \"OCaml\"; \"Perl\"; \"C\"]  Here, we’re creating a new and extended list, not changing the list we started with </p>"
   ]
  },
  {
   "cell_type": "markdown",
   "id": "eb39ff82-056a-4787-8b8e-b7fd0f728200",
   "metadata": {},
   "source": [
    " ### <font color=\"red\"> SEMICOLONS VERSUS COMMAS"
   ]
  },
  {
   "cell_type": "markdown",
   "id": "58857568-e1c9-460f-a6a2-d5f431469d1c",
   "metadata": {},
   "source": [
    "<p style=\"color:blue;font-size:18px;\"> Unlike many other languages, OCaml uses semicolons to separate list elements in lists rather than commas. Commas, instead, are used for separating elements in a tuple. If you try to use commas in a list, you’ll see that your code compiles but doesn’t do quite what you might expect </p>"
   ]
  },
  {
   "cell_type": "code",
   "execution_count": 14,
   "id": "402ac016-f1aa-4f99-bca0-4e8d52f7a3ff",
   "metadata": {},
   "outputs": [
    {
     "data": {
      "text/plain": [
       "- : (string * string * string) list = [(\"OCaml\", \"Perl\", \"C\")]\n"
      ]
     },
     "execution_count": 14,
     "metadata": {},
     "output_type": "execute_result"
    }
   ],
   "source": [
    "[\"OCaml\", \"Perl\", \"C\"];;"
   ]
  },
  {
   "cell_type": "markdown",
   "id": "44e269e1-c051-43e1-a0a8-edd30a223416",
   "metadata": {},
   "source": [
    "<p style=\"color:blue;font-size:18px;\"> it’s the Cartesian product of the two types, which is why we use *, the symbol for product. </p>"
   ]
  },
  {
   "cell_type": "code",
   "execution_count": 15,
   "id": "e4c5ebb1-7551-44da-843e-8a4f8e9d8dbe",
   "metadata": {},
   "outputs": [
    {
     "name": "stderr",
     "output_type": "stream",
     "text": [
      "File \"[15]\", line 1, characters 0-9:\n",
      "1 | [1; 2; 3];\n",
      "    ^^^^^^^^^\n",
      "Warning 10 [non-unit-statement]: this expression should have type unit.\n",
      "File \"[15]\", line 1, characters 0-9:\n",
      "1 | [1; 2; 3];\n",
      "    ^^^^^^^^^\n",
      "Warning 10 [non-unit-statement]: this expression should have type unit.\n"
     ]
    },
    {
     "data": {
      "text/plain": [
       "- : int list = [1; 2; 3]\n"
      ]
     },
     "execution_count": 15,
     "metadata": {},
     "output_type": "execute_result"
    },
    {
     "data": {
      "text/plain": [
       "- : int list = [1; 2; 3]\n"
      ]
     },
     "execution_count": 15,
     "metadata": {},
     "output_type": "execute_result"
    }
   ],
   "source": [
    "[1; 2; 3];\n",
    "1 :: (2 :: (3 :: []));;\n",
    "1 :: 2 :: 3 :: [];;"
   ]
  },
  {
   "cell_type": "markdown",
   "id": "c0b12a2b-05b1-4836-84a9-1e43b0202488",
   "metadata": {},
   "source": [
    "<p style=\"color:blue;font-size:18px;\"> - : int list = [1; 2; 3] The bracket notation for lists is really just syntactic sugar for ::. Thus, the following declarations above are all equivalent. Note that [] is used to represent the empty list and that :: is right-associative </p>"
   ]
  },
  {
   "cell_type": "code",
   "execution_count": 16,
   "id": "6ad38409-1f48-48c9-b672-09d7ab173d7d",
   "metadata": {},
   "outputs": [
    {
     "data": {
      "text/plain": [
       "- : int list = [1; 2; 3; 4; 5; 6]\n"
      ]
     },
     "execution_count": 16,
     "metadata": {},
     "output_type": "execute_result"
    }
   ],
   "source": [
    "[1;2;3] @ [4;5;6];;"
   ]
  },
  {
   "cell_type": "markdown",
   "id": "15bed648-4517-4de3-8b0e-766d6527ec9c",
   "metadata": {},
   "source": [
    "<p style=\"color:blue;font-size:18px;\"> - : int list = [1; 2; 3; 4; 5; 6] There’s also a list concatenation operator, @, which can concatenate two lists: It’s important to remember that, unlike ::, this is not a constant-time operation. Concatenating two lists takes time proportional to the length of the first list. </p>"
   ]
  },
  {
   "cell_type": "markdown",
   "id": "4f94f7ec-4085-4edd-b4d3-ad4920abe77f",
   "metadata": {},
   "source": [
    "### <font color=\"red\"> List Patterns Using Match"
   ]
  },
  {
   "cell_type": "code",
   "execution_count": 17,
   "id": "78757a07-0ea3-440a-b67d-1027833cbc75",
   "metadata": {},
   "outputs": [
    {
     "name": "stderr",
     "output_type": "stream",
     "text": [
      "File \"[17]\", lines 2-3, characters 25-13:\n",
      "2 | .........................(my_favorite :: the_rest) =\n",
      "3 |   my_favorite..\n",
      "Warning 8 [partial-match]: this pattern-matching is not exhaustive.\n",
      "Here is an example of a case that is not matched:\n",
      "[]\n"
     ]
    },
    {
     "data": {
      "text/plain": [
       "val my_favorite_language : 'a list -> 'a = <fun>\n"
      ]
     },
     "execution_count": 17,
     "metadata": {},
     "output_type": "execute_result"
    },
    {
     "data": {
      "text/plain": [
       "val sum : int list -> int = <fun>\n"
      ]
     },
     "execution_count": 17,
     "metadata": {},
     "output_type": "execute_result"
    }
   ],
   "source": [
    "\n",
    "let my_favorite_language (my_favorite :: the_rest) =\n",
    "  my_favorite;;\n",
    "  \n",
    "let rec sum l =\n",
    "    match l with\n",
    "    | [] -> 0                   (* base case *)\n",
    "    | hd :: tl -> hd + sum tl   (* inductive case *);;"
   ]
  },
  {
   "cell_type": "markdown",
   "id": "5bb970ab-aea6-4d4a-a792-d1b46043a620",
   "metadata": {},
   "source": [
    "<p style=\"color:blue;font-size:18px;\">\n",
    "- Tecursive functions are important parts when working with functional programming language <br>\n",
    "- The logic of recursive is typically to separate base cases and inductive cases <br>\n",
    "- Base cases can be solved directly <br>\n",
    "- Inductive cases, where teh function b>reaks the problem down into smaller piececs and then calls itself to solve those smaller problems <br>\n",
    "- Often done with pattern matching  </p>"
   ]
  },
  {
   "cell_type": "code",
   "execution_count": 18,
   "id": "ec7f0758-42ee-4ff3-b34a-d621146c7cab",
   "metadata": {},
   "outputs": [
    {
     "data": {
      "text/plain": [
       "val remove_sequential_duplicates : 'a list -> 'a list = <fun>\n"
      ]
     },
     "execution_count": 18,
     "metadata": {},
     "output_type": "execute_result"
    },
    {
     "data": {
      "text/plain": [
       "- : int list = [1; 2; 3; 4; 1]\n"
      ]
     },
     "execution_count": 18,
     "metadata": {},
     "output_type": "execute_result"
    }
   ],
   "source": [
    "let rec remove_sequential_duplicates list =\n",
    "    match list with\n",
    "    | [] -> []\n",
    "    | [x] -> [x]\n",
    "    | first :: second :: tl ->\n",
    "      if first = second then\n",
    "        remove_sequential_duplicates (second :: tl)\n",
    "      else\n",
    "        first :: remove_sequential_duplicates (second :: tl);;\n",
    "        \n",
    "remove_sequential_duplicates [1;1;2;3;3;4;4;1;1;1];;"
   ]
  },
  {
   "cell_type": "markdown",
   "id": "6c35365e-685d-4e74-8a7c-d21a44f024c2",
   "metadata": {},
   "source": [
    "### <font color=\"red\"> Options"
   ]
  },
  {
   "cell_type": "code",
   "execution_count": 19,
   "id": "52d11120-3c2f-42be-a70a-b13028ada24f",
   "metadata": {},
   "outputs": [
    {
     "data": {
      "text/plain": [
       "val divide : int -> int -> int option = <fun>\n"
      ]
     },
     "execution_count": 19,
     "metadata": {},
     "output_type": "execute_result"
    },
    {
     "data": {
      "text/plain": [
       "- : int option = Some 2\n"
      ]
     },
     "execution_count": 19,
     "metadata": {},
     "output_type": "execute_result"
    },
    {
     "data": {
      "text/plain": [
       "- : int option = None\n"
      ]
     },
     "execution_count": 19,
     "metadata": {},
     "output_type": "execute_result"
    }
   ],
   "source": [
    "let divide x y =\n",
    "  if y = 0 then None else Some (x / y);;\n",
    "\n",
    "divide 10 5;;\n",
    "divide 10 0;;"
   ]
  },
  {
   "cell_type": "markdown",
   "id": "43ada5e5-bdeb-40e4-9912-8ed637867e38",
   "metadata": {},
   "source": [
    "<p style=\"color:blue;font-size:18px;\">\n",
    "- The function divide either return None or Some <br>\n",
    "- You can think of an option as a specialized list that can only have zero or one elements <br>\n",
    "- There is no such thing as a NullPointerExcept in Ocaml like Java does. <br>\n",
    "  For argument types string * string, if you assume there can be the first argument can be absent, you have to edit the types like string option * string </p>"
   ]
  },
  {
   "cell_type": "markdown",
   "id": "ab983458-ae3f-406a-83bd-2124793e7473",
   "metadata": {},
   "source": [
    "&nbsp;"
   ]
  },
  {
   "cell_type": "markdown",
   "id": "0e132dfc-707d-414b-b89f-5a5ab0aefcde",
   "metadata": {},
   "source": [
    "# <font color=\"red\"> Records and Variants"
   ]
  },
  {
   "cell_type": "code",
   "execution_count": 20,
   "id": "9d15bbf0-ac32-4a05-8b85-f5dcf155ba19",
   "metadata": {},
   "outputs": [
    {
     "data": {
      "text/plain": [
       "type point2d = { x : float; y : float; }\n"
      ]
     },
     "execution_count": 20,
     "metadata": {},
     "output_type": "execute_result"
    }
   ],
   "source": [
    "type point2d = {x : float; y : float}"
   ]
  },
  {
   "cell_type": "code",
   "execution_count": 21,
   "id": "8778f429-1f95-4853-93a7-48e8fd67c46a",
   "metadata": {},
   "outputs": [
    {
     "data": {
      "text/plain": [
       "val p : point2d = {x = 3.; y = -4.}\n"
      ]
     },
     "execution_count": 21,
     "metadata": {},
     "output_type": "execute_result"
    },
    {
     "data": {
      "text/plain": [
       "val magnitude : point2d -> float = <fun>\n"
      ]
     },
     "execution_count": 21,
     "metadata": {},
     "output_type": "execute_result"
    },
    {
     "data": {
      "text/plain": [
       "val magnitude : point2d -> float = <fun>\n"
      ]
     },
     "execution_count": 21,
     "metadata": {},
     "output_type": "execute_result"
    }
   ],
   "source": [
    "let p = {x = 3. ; y = -4.};;\n",
    "\n",
    "let magnitude { x = x_pos; y = y_pos } =\n",
    "    Float.sqrt (x_pos ** 2. +. y_pos ** 2.);;\n",
    "\n",
    "let magnitude { x; y } = Float.sqrt (x ** 2. +. y ** 2.);;"
   ]
  },
  {
   "cell_type": "markdown",
   "id": "ec7fc71d-0aea-43ac-ae64-8e9358f33ff3",
   "metadata": {},
   "source": [
    "<p style=\"color:blue;font-size:18px;\">\n",
    "You can define your own type <br>\n",
    "x and y above are called \"fields\" <br>\n",
    "point2d is a record type, which you can think of as a tuple where the individual fields are named. <br>\n",
    "{} is used to define such a record type <br>\n",
    "The pattern match here binds the variable x_pos to the value contained in the x field, and the variable y_pos to the value in the y field. <br> The fact that the function automatically detects the type of intuts are also pattern matching</p>"
   ]
  },
  {
   "cell_type": "code",
   "execution_count": 22,
   "id": "aed54d05-cdd2-4f04-a3d6-2588234701bb",
   "metadata": {},
   "outputs": [
    {
     "data": {
      "text/plain": [
       "val magnitude : point2d -> float = <fun>\n"
      ]
     },
     "execution_count": 22,
     "metadata": {},
     "output_type": "execute_result"
    }
   ],
   "source": [
    "let magnitude { x; y } = Float.sqrt (x ** 2. +. y ** 2.);;"
   ]
  },
  {
   "cell_type": "markdown",
   "id": "d3f3f3e7-0369-494b-b7eb-b5d64405ae4c",
   "metadata": {},
   "source": [
    "<p style=\"color:blue;font-size:18px;\">\n",
    "The same code can be tersely written like above <br>\n",
    "Simce the name of the field and the name of the variable are bound to coincide, we don't have to write them both down\n",
    "</p>"
   ]
  },
  {
   "cell_type": "code",
   "execution_count": 23,
   "id": "ccc96ef6-e4cf-42c4-ad0a-af48a4090d6b",
   "metadata": {},
   "outputs": [
    {
     "data": {
      "text/plain": [
       "val distance : point2d -> point2d -> float = <fun>\n"
      ]
     },
     "execution_count": 23,
     "metadata": {},
     "output_type": "execute_result"
    }
   ],
   "source": [
    "let distance v1 v2 =\n",
    "  magnitude { x = v1.x -. v2.x; y = v1.y -. v2.y };;"
   ]
  },
  {
   "cell_type": "markdown",
   "id": "99ff58a1-1b6d-4450-97e8-ccba28a5a7e3",
   "metadata": {},
   "source": [
    "<p style=\"color:blue;font-size:18px;\"> \n",
    "Alternatively, you can use dot notation for accessing record fields\n",
    "</p>"
   ]
  },
  {
   "cell_type": "code",
   "execution_count": 24,
   "id": "60dbca01-ae16-4969-9c4f-40282057b00f",
   "metadata": {},
   "outputs": [
    {
     "data": {
      "text/plain": [
       "type circle_desc = { center : point2d; radius : float; }\n"
      ]
     },
     "execution_count": 24,
     "metadata": {},
     "output_type": "execute_result"
    },
    {
     "data": {
      "text/plain": [
       "type rect_desc = { lower_left : point2d; width : float; height : float; }\n"
      ]
     },
     "execution_count": 24,
     "metadata": {},
     "output_type": "execute_result"
    },
    {
     "data": {
      "text/plain": [
       "type segment_desc = { endpoint1 : point2d; endpoint2 : point2d; }\n"
      ]
     },
     "execution_count": 24,
     "metadata": {},
     "output_type": "execute_result"
    }
   ],
   "source": [
    "type circle_desc  = { center: point2d; radius: float }\n",
    "type rect_desc    = { lower_left: point2d; width: float; height: float }\n",
    "type segment_desc = { endpoint1: point2d; endpoint2: point2d }"
   ]
  },
  {
   "cell_type": "markdown",
   "id": "1728fa55-28e4-4ab3-8a24-3c1ab84177f7",
   "metadata": {},
   "source": [
    "<p style=\"color:blue;font-size:18px;\">\n",
    "Then, you can include the define type as components in larger types\n",
    "<br><br>\n",
    "Here, you define three types, then, you want to create type matching pattern with these types. <br>\n",
    "In the case, you will create variant type that embed the types within so you can use type matching\n",
    "</p>"
   ]
  },
  {
   "cell_type": "code",
   "execution_count": 25,
   "id": "dd249277-6f66-40f3-b513-629142ae4f74",
   "metadata": {},
   "outputs": [
    {
     "data": {
      "text/plain": [
       "type scene_element =\n",
       "    Circle of circle_desc\n",
       "  | Rect of rect_desc\n",
       "  | Segment of segment_desc\n"
      ]
     },
     "execution_count": 25,
     "metadata": {},
     "output_type": "execute_result"
    }
   ],
   "source": [
    "type scene_element =\n",
    "  | Circle  of circle_desc\n",
    "  | Rect    of rect_desc\n",
    "  | Segment of segment_desc"
   ]
  },
  {
   "cell_type": "markdown",
   "id": "8d4531dc-5769-45d2-a542-c4ec20e235ec",
   "metadata": {},
   "source": [
    "<p style=\"color:blue;font-size:18px;\">\n",
    "Variant type allows you to combine multiple objects of these types as a description of a multi-object scene. <br>\n",
    "The | characture separates the different cases of the variant, and each case has a capitalized tag \n",
    "\n",
    "</p>"
   ]
  },
  {
   "cell_type": "code",
   "execution_count": 26,
   "id": "ac560bc0-6cc6-4d73-a3f6-9dd864691a0c",
   "metadata": {},
   "outputs": [
    {
     "data": {
      "text/plain": [
       "val is_inside_scene_element : point2d -> scene_element -> bool = <fun>\n"
      ]
     },
     "execution_count": 26,
     "metadata": {},
     "output_type": "execute_result"
    },
    {
     "data": {
      "text/plain": [
       "val is_inside_scene : point2d -> scene_element list -> bool = <fun>\n"
      ]
     },
     "execution_count": 26,
     "metadata": {},
     "output_type": "execute_result"
    },
    {
     "data": {
      "text/plain": [
       "- : bool = false\n"
      ]
     },
     "execution_count": 26,
     "metadata": {},
     "output_type": "execute_result"
    }
   ],
   "source": [
    "let is_inside_scene_element point scene_element : bool =\n",
    "  match scene_element with\n",
    "  | Circle { center; radius } ->\n",
    "    distance center point < radius\n",
    "  | Rect { lower_left; width; height } ->\n",
    "    point.x    > lower_left.x && point.x < lower_left.x +. width\n",
    "    && point.y > lower_left.y && point.y < lower_left.y +. height\n",
    "  | Segment _ -> false\n",
    "\n",
    "let is_inside_scene point scene =\n",
    "  List.exists (fun el -> is_inside_scene_element point el) scene;;\n",
    "  \n",
    "  (* List.exists takes a predicate function (a function that returns a boolean) and a list of arguments to tset against the predicate.\n",
    "  It applies the function to each element of the list and return true or false\n",
    "    \n",
    "  fun el is a function that takes el element where el represents each element from the scene list*)\n",
    "\n",
    "is_inside_scene {x=3.;y=7.} [ Circle {center = {x=4.;y= 4.}; radius = 0.5 }  ];;"
   ]
  },
  {
   "cell_type": "markdown",
   "id": "b26b50c8-7856-46de-b115-76e1608e5def",
   "metadata": {},
   "source": [
    "<p style=\"color:blue;font-size:18px;\">\n",
    "The use of match here is reminiscent of how match with is used with option and list. <br>\n",
    "This is no accident: option and list are just examples of variant types that are defined in the standard library <br>\n",
    "    \n",
    "</p>"
   ]
  },
  {
   "cell_type": "markdown",
   "id": "3dbb0974-9cbc-4c6f-92fa-8ac52c7f1c81",
   "metadata": {},
   "source": [
    "# <font color=\"red\"> Imperative Programming"
   ]
  },
  {
   "cell_type": "code",
   "execution_count": null,
   "id": "e710fd13-998c-4c75-8e01-c08979848566",
   "metadata": {},
   "outputs": [],
   "source": []
  },
  {
   "cell_type": "code",
   "execution_count": null,
   "id": "2c95b055-8511-4eff-9572-96d934fd9fba",
   "metadata": {},
   "outputs": [],
   "source": []
  }
 ],
 "metadata": {
  "kernelspec": {
   "display_name": "OCaml default",
   "language": "OCaml",
   "name": "ocaml-jupyter-default"
  },
  "language_info": {
   "codemirror_mode": "text/x-ocaml",
   "file_extension": ".ml",
   "mimetype": "text/x-ocaml",
   "name": "OCaml",
   "nbconverter_exporter": null,
   "pygments_lexer": "OCaml",
   "version": "4.14.2"
  }
 },
 "nbformat": 4,
 "nbformat_minor": 5
}
